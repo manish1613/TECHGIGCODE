{
 "cells": [
  {
   "cell_type": "code",
   "execution_count": 1,
   "metadata": {},
   "outputs": [],
   "source": [
    "import numpy as np\n",
    "import pandas as pd\n",
    "import seaborn as sns"
   ]
  },
  {
   "cell_type": "code",
   "execution_count": 2,
   "metadata": {},
   "outputs": [],
   "source": [
    "df=pd.read_csv(\"C:\\\\Users\\\\DELL6420\\\\Downloads\\\\Training Data.csv\")\n",
    "df_test=pd.read_csv(\"C:\\\\Users\\\\DELL6420\\\\Downloads\\\\Test Data.csv\")\n",
    "df_test.head()\n",
    "df_record=df_test['record_id']"
   ]
  },
  {
   "cell_type": "code",
   "execution_count": 3,
   "metadata": {},
   "outputs": [
    {
     "name": "stdout",
     "output_type": "stream",
     "text": [
      "<class 'pandas.core.frame.DataFrame'>\n",
      "RangeIndex: 965 entries, 0 to 964\n",
      "Data columns (total 56 columns):\n",
      " #   Column                         Non-Null Count  Dtype  \n",
      "---  ------                         --------------  -----  \n",
      " 0   clientid_cr                    965 non-null    int64  \n",
      " 1   clmbuserid_cr                  965 non-null    object \n",
      " 2   conversiontime_cr              965 non-null    float64\n",
      " 3   imprid_cr                      965 non-null    object \n",
      " 4   adslotdimid_cr                 965 non-null    int64  \n",
      " 5   algo_cr                        945 non-null    float64\n",
      " 6   audiences_cr                   766 non-null    object \n",
      " 7   clickbid_cr                    669 non-null    float64\n",
      " 8   geodimid_cr                    965 non-null    int64  \n",
      " 9   ip_cr                          945 non-null    object \n",
      " 10  itemcolumbiaid_cr              965 non-null    int64  \n",
      " 11  itemid_cr                      965 non-null    int64  \n",
      " 12  position_cr                    945 non-null    float64\n",
      " 13  pubclientid_cr                 965 non-null    int64  \n",
      " 14  refurl_cr                      840 non-null    object \n",
      " 15  siteId_cr                      965 non-null    int64  \n",
      " 16  templateid_cr                  858 non-null    float64\n",
      " 17  goalid_cr                      965 non-null    int64  \n",
      " 18  time_cr                        965 non-null    float64\n",
      " 19  adLogType_cr                   965 non-null    int64  \n",
      " 20  v_cr                           964 non-null    float64\n",
      " 21  allAudiences_cr                918 non-null    object \n",
      " 22  pricingtype_cr                 965 non-null    int64  \n",
      " 23  osId_cr                        944 non-null    float64\n",
      " 24  browserId_cr                   944 non-null    float64\n",
      " 25  cityId_cr                      945 non-null    float64\n",
      " 26  stateId_cr                     945 non-null    float64\n",
      " 27  modelDimId_cr                  944 non-null    float64\n",
      " 28  lookUpFrom_cr                  965 non-null    int64  \n",
      " 29  connTypeDimId_cr               945 non-null    object \n",
      " 30  ispDimId_cr                    945 non-null    float64\n",
      " 31  countryDimId_cr                945 non-null    float64\n",
      " 32  goalTypeId_cr                  965 non-null    int64  \n",
      " 33  conversionDurationInMillis_cr  945 non-null    float64\n",
      " 34  impressionTimeInMillis_cr      945 non-null    float64\n",
      " 35  clickTimeInMillis_cr           833 non-null    float64\n",
      " 36  osVerDimId_cr                  944 non-null    float64\n",
      " 37  uuidSource_cr                  945 non-null    float64\n",
      " 38  geoGrpDimId_cr                 945 non-null    float64\n",
      " 39  stateGrpDimId_cr               860 non-null    float64\n",
      " 40  deviceId_cr                    111 non-null    float64\n",
      " 41  uvh_cr                         0 non-null      float64\n",
      " 42  uv_cr                          29 non-null     float64\n",
      " 43  platformId_cr                  112 non-null    float64\n",
      " 44  sdkVersion_cr                  7 non-null      object \n",
      " 45  usrClusterId_cr                354 non-null    object \n",
      " 46  cityGrpDimId_cr                621 non-null    float64\n",
      " 47  siteClusterIds_cr              412 non-null    object \n",
      " 48  refClusterId_cr                66 non-null     float64\n",
      " 49  paid_cr                        194 non-null    float64\n",
      " 50  spend_cr                       194 non-null    float64\n",
      " 51  attributionType_cr             194 non-null    float64\n",
      " 52  conversionid_cr                24 non-null     object \n",
      " 53  optimize_on_cr                 40 non-null     object \n",
      " 54  bundleId_cr                    5 non-null      float64\n",
      " 55  conversion_fraud               965 non-null    bool   \n",
      "dtypes: bool(1), float64(31), int64(12), object(12)\n",
      "memory usage: 415.7+ KB\n"
     ]
    }
   ],
   "source": [
    "df.info()\n",
    "#df['connTypeDimId_cr']"
   ]
  },
  {
   "cell_type": "code",
   "execution_count": 4,
   "metadata": {},
   "outputs": [],
   "source": [
    "#df.corr()\n",
    "del df['clmbuserid_cr']\n",
    "del df['audiences_cr']\n",
    "del df['imprid_cr']\n",
    "del df['ip_cr']\n",
    "del df['refurl_cr']\n",
    "del df['allAudiences_cr']\n",
    "del df['connTypeDimId_cr']\n",
    "del df['sdkVersion_cr']\n",
    "del df['optimize_on_cr']\n",
    "del df['conversionid_cr']\n",
    "del df['siteClusterIds_cr']\n",
    "del df['usrClusterId_cr']\n"
   ]
  },
  {
   "cell_type": "code",
   "execution_count": 5,
   "metadata": {},
   "outputs": [
    {
     "data": {
      "text/plain": [
       "clientid_cr                        0\n",
       "conversiontime_cr                  0\n",
       "adslotdimid_cr                     0\n",
       "algo_cr                           20\n",
       "clickbid_cr                      296\n",
       "geodimid_cr                        0\n",
       "itemcolumbiaid_cr                  0\n",
       "itemid_cr                          0\n",
       "position_cr                       20\n",
       "pubclientid_cr                     0\n",
       "siteId_cr                          0\n",
       "templateid_cr                    107\n",
       "goalid_cr                          0\n",
       "time_cr                            0\n",
       "adLogType_cr                       0\n",
       "v_cr                               1\n",
       "pricingtype_cr                     0\n",
       "osId_cr                           21\n",
       "browserId_cr                      21\n",
       "cityId_cr                         20\n",
       "stateId_cr                        20\n",
       "modelDimId_cr                     21\n",
       "lookUpFrom_cr                      0\n",
       "ispDimId_cr                       20\n",
       "countryDimId_cr                   20\n",
       "goalTypeId_cr                      0\n",
       "conversionDurationInMillis_cr     20\n",
       "impressionTimeInMillis_cr         20\n",
       "clickTimeInMillis_cr             132\n",
       "osVerDimId_cr                     21\n",
       "uuidSource_cr                     20\n",
       "geoGrpDimId_cr                    20\n",
       "stateGrpDimId_cr                 105\n",
       "deviceId_cr                      854\n",
       "uvh_cr                           965\n",
       "uv_cr                            936\n",
       "platformId_cr                    853\n",
       "cityGrpDimId_cr                  344\n",
       "refClusterId_cr                  899\n",
       "paid_cr                          771\n",
       "spend_cr                         771\n",
       "attributionType_cr               771\n",
       "bundleId_cr                      960\n",
       "conversion_fraud                   0\n",
       "dtype: int64"
      ]
     },
     "execution_count": 5,
     "metadata": {},
     "output_type": "execute_result"
    }
   ],
   "source": [
    "#df.info()\n",
    "df.isnull().sum()"
   ]
  },
  {
   "cell_type": "code",
   "execution_count": 6,
   "metadata": {},
   "outputs": [],
   "source": [
    "del df['uvh_cr']\n",
    "del df['uv_cr']\n",
    "del df['bundleId_cr']\n",
    "del df['refClusterId_cr']\n",
    "del df['deviceId_cr']\n",
    "del df['platformId_cr']\n",
    "del df['paid_cr']\n",
    "del df['spend_cr']\n",
    "del df['attributionType_cr']\n"
   ]
  },
  {
   "cell_type": "code",
   "execution_count": 7,
   "metadata": {},
   "outputs": [],
   "source": [
    "from sklearn.impute import SimpleImputer\n",
    "imputer=SimpleImputer(missing_values=np.nan,strategy='mean')\n",
    "imputer=imputer.fit(df[['cityGrpDimId_cr']])\n",
    "df['cityGrpDimId_cr']=imputer.transform(df[['cityGrpDimId_cr']])\n",
    "imputer=imputer.fit(df[['stateGrpDimId_cr']])\n",
    "df['stateGrpDimId_cr']=imputer.transform(df[['stateGrpDimId_cr']])\n",
    "imputer=imputer.fit(df[['geoGrpDimId_cr']])\n",
    "df['geoGrpDimId_cr']=imputer.transform(df[['geoGrpDimId_cr']])\n",
    "imputer=imputer.fit(df[['geoGrpDimId_cr']])\n",
    "df['geoGrpDimId_cr']=imputer.transform(df[['geoGrpDimId_cr']])\n",
    " \n",
    "         \n",
    "\n",
    "imputer=imputer.fit(df[['uuidSource_cr']])\n",
    "df['uuidSource_cr']=imputer.transform(df[['uuidSource_cr']])\n",
    "imputer=imputer.fit(df[['clickTimeInMillis_cr']])\n",
    "df['clickTimeInMillis_cr']=imputer.transform(df[['clickTimeInMillis_cr']])\n",
    "imputer=imputer.fit(df[['impressionTimeInMillis_cr']])\n",
    "df['impressionTimeInMillis_cr']=imputer.transform(df[['impressionTimeInMillis_cr']])\n",
    "imputer=imputer.fit(df[['conversionDurationInMillis_cr']])\n",
    "df['conversionDurationInMillis_cr']=imputer.transform(df[['conversionDurationInMillis_cr']])\n",
    "\n",
    "imputer=imputer.fit(df[['osId_cr']])\n",
    "df['osId_cr']=imputer.transform(df[['osId_cr']])\n",
    "imputer=imputer.fit(df[['browserId_cr']])\n",
    "df['browserId_cr']=imputer.transform(df[['browserId_cr']])\n",
    "imputer=imputer.fit(df[['cityId_cr']])\n",
    "df['cityId_cr']=imputer.transform(df[['cityId_cr']])\n",
    "imputer=imputer.fit(df[['stateId_cr']])\n",
    "df['stateId_cr']=imputer.transform(df[['stateId_cr']])\n",
    "imputer=imputer.fit(df[['modelDimId_cr']])\n",
    "df['modelDimId_cr']=imputer.transform(df[['modelDimId_cr']])\n",
    "\n",
    "\n",
    "imputer=imputer.fit(df[['algo_cr']])\n",
    "df['algo_cr']=imputer.transform(df[['algo_cr']])\n",
    "imputer=imputer.fit(df[['clickbid_cr']])\n",
    "df['clickbid_cr']=imputer.transform(df[['clickbid_cr']])\n",
    "imputer=imputer.fit(df[['ispDimId_cr']])\n",
    "df['ispDimId_cr']=imputer.transform(df[['ispDimId_cr']])\n",
    "imputer=imputer.fit(df[['countryDimId_cr']])\n",
    "df['countryDimId_cr']=imputer.transform(df[['countryDimId_cr']])\n",
    "\n",
    "imputer=imputer.fit(df[['position_cr']])\n",
    "df['position_cr']=imputer.transform(df[['position_cr']])\n",
    "imputer=imputer.fit(df[['templateid_cr']])\n",
    "df['templateid_cr']=imputer.transform(df[['templateid_cr']])\n",
    "imputer=imputer.fit(df[['v_cr']])\n",
    "df['v_cr']=imputer.transform(df[['v_cr']])\n",
    "imputer=imputer.fit(df[['osVerDimId_cr']])\n",
    "df['osVerDimId_cr']=imputer.transform(df[['osVerDimId_cr']])"
   ]
  },
  {
   "cell_type": "code",
   "execution_count": 8,
   "metadata": {},
   "outputs": [],
   "source": [
    "df_test=df_test.drop(['optimize_on_cr','conversionid_cr','sdkVersion_cr','allAudiences_cr','ip_cr','audiences_cr','imprid_cr','clmbuserid_cr'],axis=1)\n",
    "del df_test['refurl_cr']"
   ]
  },
  {
   "cell_type": "code",
   "execution_count": 9,
   "metadata": {},
   "outputs": [],
   "source": [
    "df_test=df_test.drop(['bundleId_cr','attributionType_cr','spend_cr','paid_cr','refClusterId_cr','uv_cr','uvh_cr','platformId_cr'],axis=1)\n",
    "del df_test['deviceId_cr']"
   ]
  },
  {
   "cell_type": "code",
   "execution_count": 10,
   "metadata": {},
   "outputs": [
    {
     "name": "stderr",
     "output_type": "stream",
     "text": [
      "<ipython-input-10-13de01f29106>:2: UserWarning: Pandas doesn't allow columns to be created via a new attribute name - see https://pandas.pydata.org/pandas-docs/stable/indexing.html#attribute-access\n",
      "  df_test.v=df_test.cityGrpDimId_cr.fillna(df_test.cityGrpDimId_cr.mean())\n"
     ]
    }
   ],
   "source": [
    "df_test.siteClusterIds_cr=df_test.siteClusterIds_cr.fillna(df_test.siteClusterIds_cr.mean())\n",
    "df_test.v=df_test.cityGrpDimId_cr.fillna(df_test.cityGrpDimId_cr.mean())\n",
    "df_test.usrClusterId_cr=df_test.usrClusterId_cr.fillna(df_test.usrClusterId_cr.mean())\n",
    "df_test.stateGrpDimId_cr=df_test.stateGrpDimId_cr.fillna(df_test.stateGrpDimId_cr.mean())\n",
    "df_test.clickTimeInMillis_cr=df_test.clickTimeInMillis_cr.fillna(df_test.clickTimeInMillis_cr.mean())\n",
    "df_test.clickbid_cr=df_test.clickbid_cr.fillna(df_test.clickbid_cr.mean())\n",
    "df_test.templateid_cr=df_test.templateid_cr.fillna(df_test.templateid_cr.mean())\n",
    "df_test.cityGrpDimId_cr=df_test.cityGrpDimId_cr.fillna(df_test.cityGrpDimId_cr.mean())\n",
    "del df_test['record_id']\n",
    "del df_test['connTypeDimId_cr']\n",
    "del df_test['usrClusterId_cr']\n",
    "del df_test['siteClusterIds_cr']"
   ]
  },
  {
   "cell_type": "code",
   "execution_count": 11,
   "metadata": {},
   "outputs": [],
   "source": [
    "target=df['conversion_fraud']\n",
    "X=df.drop('conversion_fraud',axis=1)\n",
    "#print(X)"
   ]
  },
  {
   "cell_type": "code",
   "execution_count": 12,
   "metadata": {},
   "outputs": [],
   "source": [
    "from sklearn.model_selection import train_test_split\n",
    "X_train,X_test,y_train,y_test=train_test_split(X,target,test_size=0.2)\n",
    "#print(X_train)"
   ]
  },
  {
   "cell_type": "code",
   "execution_count": 13,
   "metadata": {},
   "outputs": [
    {
     "name": "stdout",
     "output_type": "stream",
     "text": [
      "[False  True False False False  True False False False  True  True  True\n",
      " False False False False  True False False False  True False False False\n",
      " False False  True False  True False False False False False False False\n",
      " False False False False False False False False False False False False\n",
      " False False False False False False False False False False False False\n",
      " False False False False False  True False False  True  True False False\n",
      " False False False False False False False False False False False False\n",
      "  True False False False False False False False False False False False\n",
      " False False  True False False False False False False False False False\n",
      " False False False False False False False False False False False False\n",
      " False False False False False False False False False  True False False\n",
      " False False False False False False False False  True False False False\n",
      " False False  True False  True False False False False False False False\n",
      " False False False False False False False False False False  True False\n",
      " False False False False False False False False False False  True False\n",
      " False False False False False False False False  True False False False\n",
      " False]\n",
      "0.8756476683937824\n"
     ]
    }
   ],
   "source": [
    "from sklearn.tree import DecisionTreeClassifier\n",
    "from sklearn.metrics import confusion_matrix,accuracy_score\n",
    "dt=DecisionTreeClassifier()\n",
    "dt.fit(X_train,y_train)\n",
    "y_pred=dt.predict(X_test)\n",
    "print(y_pred)\n",
    "print(accuracy_score(y_test,y_pred))\n"
   ]
  },
  {
   "cell_type": "code",
   "execution_count": 14,
   "metadata": {},
   "outputs": [
    {
     "name": "stdout",
     "output_type": "stream",
     "text": [
      "0.8756476683937824\n"
     ]
    }
   ],
   "source": [
    "print(dt.score(X_test,y_test))\n"
   ]
  },
  {
   "cell_type": "code",
   "execution_count": 15,
   "metadata": {},
   "outputs": [
    {
     "data": {
      "text/plain": [
       "<bound method DataFrame.info of      clientid_cr  conversiontime_cr  adslotdimid_cr  algo_cr  clickbid_cr  \\\n",
       "0          82122      1620000000000          233531       38     3.657184   \n",
       "1          75694      1620000000000          356952       20     3.100000   \n",
       "2          75694      1620000000000          356952       18     3.100000   \n",
       "3          30431      1620000000000          355768       21     3.657184   \n",
       "4          30431      1620000000000          355768       21     3.657184   \n",
       "..           ...                ...             ...      ...          ...   \n",
       "450        75694      1620000000000          332783       20     3.100000   \n",
       "451        75694      1620000000000          129239       20     3.657184   \n",
       "452        75694      1620000000000          129237       37     3.100000   \n",
       "453         8895      1620000000000          334760        2     3.657184   \n",
       "454        75694      1620000000000          239188       38     2.790000   \n",
       "\n",
       "     geodimid_cr  itemcolumbiaid_cr  itemid_cr  position_cr  pubclientid_cr  \\\n",
       "0            145            5526656   53184285            3            2658   \n",
       "1            144            5488773   49504162            1           85030   \n",
       "2            144            5488088   49504161            1           85030   \n",
       "3            144            5614054   53607445            1               1   \n",
       "4            144            5614054   53607445            1               1   \n",
       "..           ...                ...        ...          ...             ...   \n",
       "450          144            5488773   49504155    181581299            2658   \n",
       "451          144            5488773   49504157            1           15240   \n",
       "452          144            5488773   49504154            1           15240   \n",
       "453          144            5601460   52820721            3           76969   \n",
       "454          144            5488773   49504155            2            2658   \n",
       "\n",
       "     ...  countryDimId_cr  goalTypeId_cr  conversionDurationInMillis_cr  \\\n",
       "0    ...              145             10                         369206   \n",
       "1    ...              144             10                           2298   \n",
       "2    ...              144             10                           5713   \n",
       "3    ...              144             10                          66670   \n",
       "4    ...              144             10                          53789   \n",
       "..   ...              ...            ...                            ...   \n",
       "450  ...              144             10                           4954   \n",
       "451  ...              144             10                         141841   \n",
       "452  ...              144             10                           1944   \n",
       "453  ...              144             10                          44581   \n",
       "454  ...              144             10                           2518   \n",
       "\n",
       "     impressionTimeInMillis_cr  clickTimeInMillis_cr  osVerDimId_cr  \\\n",
       "0                1620000000000          1.619974e+12              0   \n",
       "1                1620000000000          1.620000e+12         199414   \n",
       "2                1620000000000          1.620000e+12         199414   \n",
       "3                1620000000000          1.620000e+12         360833   \n",
       "4                1620000000000          1.620000e+12         360833   \n",
       "..                         ...                   ...            ...   \n",
       "450              1620000000000          1.620000e+12         199452   \n",
       "451              1620000000000          1.619974e+12         199522   \n",
       "452              1620000000000          1.620000e+12         199452   \n",
       "453              1620000000000          1.620000e+12         360833   \n",
       "454              1620000000000          1.620000e+12         199414   \n",
       "\n",
       "     uuidSource_cr  geoGrpDimId_cr  stateGrpDimId_cr  cityGrpDimId_cr  \n",
       "0                1          348012      348022.96368    348007.062914  \n",
       "1                1          348011      348020.00000    348006.000000  \n",
       "2                1          348011      348020.00000    348006.000000  \n",
       "3                1          348011      348025.00000    348010.000000  \n",
       "4                1          348011      348025.00000    348010.000000  \n",
       "..             ...             ...               ...              ...  \n",
       "450              1          348011      348020.00000    348007.062914  \n",
       "451              1          348011      348025.00000    348009.000000  \n",
       "452              1          348011      348024.00000    348010.000000  \n",
       "453              1          348011      348026.00000    348007.062914  \n",
       "454              1          348011      348022.00000    348007.062914  \n",
       "\n",
       "[455 rows x 34 columns]>"
      ]
     },
     "execution_count": 15,
     "metadata": {},
     "output_type": "execute_result"
    }
   ],
   "source": [
    "df_test.isnull().sum()\n",
    "\n",
    "df_test.info"
   ]
  },
  {
   "cell_type": "code",
   "execution_count": 16,
   "metadata": {},
   "outputs": [
    {
     "name": "stdout",
     "output_type": "stream",
     "text": [
      "[ True False False False False False False  True False  True False False\n",
      "  True False False False False False False False False  True False  True\n",
      " False False False False  True  True  True  True False  True  True  True\n",
      " False False False False  True False  True False False False False False\n",
      " False False  True False False  True False False False False False False\n",
      " False False False False False False False False False False False  True\n",
      " False False False False  True False False False False False  True False\n",
      " False False False False False False False False False False  True False\n",
      " False False False False False False False False False False False False\n",
      " False False False False False False False False False False False False\n",
      " False False False False False False False False False False False  True\n",
      "  True False False False False False  True False False False False False\n",
      " False False False False False False False False False  True False False\n",
      " False False False False False False False False False False False False\n",
      " False False False False False False  True False False False False False\n",
      " False False False False False False False False False  True False False\n",
      " False False  True False False False False False False False False False\n",
      " False False  True False False False  True False False False  True False\n",
      " False False False False False False False False False False False  True\n",
      " False False  True False False False False False False False False False\n",
      " False False False False False False False False False False False False\n",
      "  True False False False False False False  True False False False False\n",
      " False False False False False False False False False False False False\n",
      " False False False  True False False False False  True False False  True\n",
      "  True False False  True False False False False False False False False\n",
      " False False  True False False False False False False False False False\n",
      " False False False False False False False False False False False False\n",
      "  True False False False False  True False False False False False False\n",
      " False False False  True False False False False False False False False\n",
      " False False False False False False False False False False False False\n",
      " False False False False False False False False False False False False\n",
      " False False False False False False False False False False False False\n",
      " False  True False False False False False False False  True False False\n",
      " False False False False False False  True False False False False False\n",
      " False False False False False False False False False  True False False\n",
      " False False False False  True False False False False False False False\n",
      " False  True False False False False False  True False False False False\n",
      " False False False False False False False False False False False]\n"
     ]
    }
   ],
   "source": [
    "y_pridect=dt.predict(df_test)\n",
    "print(y_pridect)"
   ]
  },
  {
   "cell_type": "markdown",
   "metadata": {},
   "source": [
    "df_new=pd.DataFrame()\n",
    "df_new['record_id']=df_record\n",
    "df_new['conversion_fraud']=y_pridect\n",
    "df_new.to_csv(\"techgig.csv\")"
   ]
  },
  {
   "cell_type": "code",
   "execution_count": 17,
   "metadata": {},
   "outputs": [
    {
     "data": {
      "text/plain": [
       "BaggingClassifier(base_estimator=DecisionTreeClassifier(), n_estimators=10000,\n",
       "                  n_jobs=-1, random_state=12)"
      ]
     },
     "execution_count": 17,
     "metadata": {},
     "output_type": "execute_result"
    }
   ],
   "source": [
    "from sklearn.ensemble import BaggingClassifier\n",
    "bag_clf=BaggingClassifier(base_estimator=dt,n_estimators=10000,bootstrap=True,n_jobs=-1,random_state=12)\n",
    "bag_clf.fit(X_train,y_train)"
   ]
  },
  {
   "cell_type": "code",
   "execution_count": 18,
   "metadata": {},
   "outputs": [
    {
     "data": {
      "text/plain": [
       "0.927461139896373"
      ]
     },
     "execution_count": 18,
     "metadata": {},
     "output_type": "execute_result"
    }
   ],
   "source": [
    "accuracy_score(y_test,bag_clf.predict(X_test))\n",
    "\n",
    "\n",
    "\n"
   ]
  },
  {
   "cell_type": "markdown",
   "metadata": {},
   "source": [
    "df_new6=pd.DataFrame()\n",
    "df_new6['record_id']=df_record\n",
    "df_new6['conversion_fraud']=bag_clf.predict(df_test)\n",
    "df_new6.to_csv(\"techgig6.csv\")"
   ]
  },
  {
   "cell_type": "code",
   "execution_count": 19,
   "metadata": {},
   "outputs": [
    {
     "data": {
      "text/plain": [
       "0.9222797927461139"
      ]
     },
     "execution_count": 19,
     "metadata": {},
     "output_type": "execute_result"
    }
   ],
   "source": [
    "from sklearn.ensemble import RandomForestClassifier\n",
    "rf_clf=RandomForestClassifier(n_estimators=1000,n_jobs=-1,random_state=42)\n",
    "rf_clf.fit(X_train,y_train)\n",
    "accuracy_score(y_test,rf_clf.predict(X_test))"
   ]
  },
  {
   "cell_type": "markdown",
   "metadata": {},
   "source": [
    "df_new8=pd.DataFrame()\n",
    "df_new8['record_id']=df_record\n",
    "df_new8['conversion_fraud']=rf_clf.predict(df_test)\n",
    "df_new8.to_csv(\"techgig8.csv\")"
   ]
  },
  {
   "cell_type": "code",
   "execution_count": 20,
   "metadata": {},
   "outputs": [
    {
     "data": {
      "text/plain": [
       "GridSearchCV(cv=5,\n",
       "             estimator=RandomForestClassifier(n_estimators=250,\n",
       "                                              random_state=42),\n",
       "             n_jobs=-1,\n",
       "             param_grid={'max_features': [4, 5, 6, 7, 8, 9, 10, 11, 12, 13, 14,\n",
       "                                          15],\n",
       "                         'min_samples_split': [2, 3, 10, 11]},\n",
       "             scoring='accuracy')"
      ]
     },
     "execution_count": 20,
     "metadata": {},
     "output_type": "execute_result"
    }
   ],
   "source": [
    "from sklearn.model_selection import GridSearchCV \n",
    "rf_clf1=RandomForestClassifier(n_estimators=250,random_state=42)\n",
    "param_grid={\"max_features\": [4,5,6,7,8,9,10,11,12,13,14,15],\"min_samples_split\": [2,3,10,11]}\n",
    "grid_search=GridSearchCV(rf_clf1,param_grid,n_jobs=-1,cv=5,scoring=\"accuracy\")\n",
    "grid_search.fit(X_train,y_train)"
   ]
  },
  {
   "cell_type": "code",
   "execution_count": 21,
   "metadata": {},
   "outputs": [
    {
     "data": {
      "text/plain": [
       "0.9222797927461139"
      ]
     },
     "execution_count": 21,
     "metadata": {},
     "output_type": "execute_result"
    }
   ],
   "source": [
    "grid_search.best_params_\n",
    "cvrf_clf=grid_search.best_estimator_\n",
    "accuracy_score(y_test,cvrf_clf.predict(X_test))"
   ]
  },
  {
   "cell_type": "code",
   "execution_count": 22,
   "metadata": {},
   "outputs": [
    {
     "data": {
      "text/plain": [
       "0.9222797927461139"
      ]
     },
     "execution_count": 22,
     "metadata": {},
     "output_type": "execute_result"
    }
   ],
   "source": [
    "from sklearn.ensemble import AdaBoostClassifier\n",
    "ada_clf=AdaBoostClassifier(rf_clf,learning_rate=0.05,n_estimators=1000)\n",
    "ada_clf.fit(X_train,y_train)\n",
    "accuracy_score(y_test,ada_clf.predict(X_test))"
   ]
  },
  {
   "cell_type": "code",
   "execution_count": 23,
   "metadata": {},
   "outputs": [],
   "source": [
    "import xgboost as xgb\n",
    "from sklearn.metrics import confusion_matrix,accuracy_score\n",
    "from sklearn.model_selection import GridSearchCV "
   ]
  },
  {
   "cell_type": "code",
   "execution_count": 24,
   "metadata": {},
   "outputs": [
    {
     "name": "stderr",
     "output_type": "stream",
     "text": [
      "C:\\ProgramData\\Anaconda3\\lib\\site-packages\\xgboost\\sklearn.py:1146: UserWarning: The use of label encoder in XGBClassifier is deprecated and will be removed in a future release. To remove this warning, do the following: 1) Pass option use_label_encoder=False when constructing XGBClassifier object; and 2) Encode your labels (y) as integers starting with 0, i.e. 0, 1, 2, ..., [num_class - 1].\n",
      "  warnings.warn(label_encoder_deprecation_msg, UserWarning)\n"
     ]
    },
    {
     "name": "stdout",
     "output_type": "stream",
     "text": [
      "[16:33:33] WARNING: C:/Users/Administrator/workspace/xgboost-win64_release_1.4.0/src/learner.cc:1095: Starting in XGBoost 1.3.0, the default evaluation metric used with the objective 'binary:logistic' was changed from 'error' to 'logloss'. Explicitly set eval_metric if you'd like to restore the old behavior.\n"
     ]
    },
    {
     "data": {
      "text/plain": [
       "0.9326424870466321"
      ]
     },
     "execution_count": 24,
     "metadata": {},
     "output_type": "execute_result"
    }
   ],
   "source": [
    "xgb_clf=xgb.XGBClassifier(max_depth=5, n_estimators=10000,learning_rate=0.3,n_jobs=-1)\n",
    "xgb_clf.fit(X_train,y_train)\n",
    "accuracy_score(y_test,xgb_clf.predict(X_test))"
   ]
  },
  {
   "cell_type": "code",
   "execution_count": 27,
   "metadata": {},
   "outputs": [
    {
     "name": "stdout",
     "output_type": "stream",
     "text": [
      "[[169   3]\n",
      " [ 10  11]]\n"
     ]
    },
    {
     "data": {
      "text/plain": [
       "0.9326424870466321"
      ]
     },
     "execution_count": 27,
     "metadata": {},
     "output_type": "execute_result"
    }
   ],
   "source": [
    "print(confusion_matrix(y_test,xgb_clf.predict(X_test)))\n",
    "accuracy_score(y_test,xgb_clf.predict(X_test))\n"
   ]
  },
  {
   "cell_type": "code",
   "execution_count": 26,
   "metadata": {},
   "outputs": [
    {
     "data": {
      "text/plain": [
       "<matplotlib.axes._subplots.AxesSubplot at 0xe9c9d8fe50>"
      ]
     },
     "execution_count": 26,
     "metadata": {},
     "output_type": "execute_result"
    },
    {
     "data": {
      "image/png": "[encoded data removed]",
      "text/plain": [
       "<Figure size 432x288 with 1 Axes>"
      ]
     },
     "metadata": {
      "needs_background": "light"
     },
     "output_type": "display_data"
    }
   ],
   "source": [
    "xgb.plot_importance(xgb_clf)"
   ]
  }
 ],
 "metadata": {
  "kernelspec": {
   "display_name": "Python 3",
   "language": "python",
   "name": "python3"
  },
  "language_info": {
   "codemirror_mode": {
    "name": "ipython",
    "version": 3
   },
   "file_extension": ".py",
   "mimetype": "text/x-python",
   "name": "python",
   "nbconvert_exporter": "python",
   "pygments_lexer": "ipython3",
   "version": "3.8.3"
  }
 },
 "nbformat": 4,
 "nbformat_minor": 4
}
